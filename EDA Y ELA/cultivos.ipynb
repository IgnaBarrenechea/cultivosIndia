{
 "cells": [
  {
   "cell_type": "markdown",
   "metadata": {},
   "source": [
    "### Librerias a importar"
   ]
  },
  {
   "cell_type": "code",
   "execution_count": 1,
   "metadata": {},
   "outputs": [],
   "source": [
    "import numpy as np\n",
    "import pandas as pd\n",
    "import matplotlib.pyplot as plt\n",
    "import seaborn as sns\n",
    "import pyodbc"
   ]
  },
  {
   "cell_type": "markdown",
   "metadata": {},
   "source": [
    "### Lectura de archivo"
   ]
  },
  {
   "cell_type": "code",
   "execution_count": 7,
   "metadata": {},
   "outputs": [],
   "source": [
    "cultivosIndia = pd.read_csv(\"CropProductiondata.csv\")\n"
   ]
  },
  {
   "cell_type": "code",
   "execution_count": 9,
   "metadata": {},
   "outputs": [
    {
     "data": {
      "text/html": [
       "<div>\n",
       "<style scoped>\n",
       "    .dataframe tbody tr th:only-of-type {\n",
       "        vertical-align: middle;\n",
       "    }\n",
       "\n",
       "    .dataframe tbody tr th {\n",
       "        vertical-align: top;\n",
       "    }\n",
       "\n",
       "    .dataframe thead th {\n",
       "        text-align: right;\n",
       "    }\n",
       "</style>\n",
       "<table border=\"1\" class=\"dataframe\">\n",
       "  <thead>\n",
       "    <tr style=\"text-align: right;\">\n",
       "      <th></th>\n",
       "      <th>State_Name</th>\n",
       "      <th>District_Name</th>\n",
       "      <th>Crop_Year</th>\n",
       "      <th>Season</th>\n",
       "      <th>Crop</th>\n",
       "      <th>Area</th>\n",
       "      <th>Production</th>\n",
       "    </tr>\n",
       "  </thead>\n",
       "  <tbody>\n",
       "    <tr>\n",
       "      <th>0</th>\n",
       "      <td>ANDAMAN AND NICOBAR</td>\n",
       "      <td>NICOBAR ISLANDS</td>\n",
       "      <td>2000</td>\n",
       "      <td>Kharif</td>\n",
       "      <td>Arecanut</td>\n",
       "      <td>1254.0</td>\n",
       "      <td>2000.0</td>\n",
       "    </tr>\n",
       "    <tr>\n",
       "      <th>1</th>\n",
       "      <td>ANDAMAN AND NICOBAR</td>\n",
       "      <td>NICOBAR ISLANDS</td>\n",
       "      <td>2000</td>\n",
       "      <td>Kharif</td>\n",
       "      <td>Other Kharif pulses</td>\n",
       "      <td>2.0</td>\n",
       "      <td>1.0</td>\n",
       "    </tr>\n",
       "    <tr>\n",
       "      <th>2</th>\n",
       "      <td>ANDAMAN AND NICOBAR</td>\n",
       "      <td>NICOBAR ISLANDS</td>\n",
       "      <td>2000</td>\n",
       "      <td>Kharif</td>\n",
       "      <td>Rice</td>\n",
       "      <td>102.0</td>\n",
       "      <td>321.0</td>\n",
       "    </tr>\n",
       "    <tr>\n",
       "      <th>3</th>\n",
       "      <td>ANDAMAN AND NICOBAR</td>\n",
       "      <td>NICOBAR ISLANDS</td>\n",
       "      <td>2000</td>\n",
       "      <td>Whole Year</td>\n",
       "      <td>Banana</td>\n",
       "      <td>176.0</td>\n",
       "      <td>641.0</td>\n",
       "    </tr>\n",
       "    <tr>\n",
       "      <th>4</th>\n",
       "      <td>ANDAMAN AND NICOBAR</td>\n",
       "      <td>NICOBAR ISLANDS</td>\n",
       "      <td>2000</td>\n",
       "      <td>Whole Year</td>\n",
       "      <td>Cashewnut</td>\n",
       "      <td>720.0</td>\n",
       "      <td>165.0</td>\n",
       "    </tr>\n",
       "  </tbody>\n",
       "</table>\n",
       "</div>"
      ],
      "text/plain": [
       "            State_Name    District_Name  Crop_Year       Season  \\\n",
       "0  ANDAMAN AND NICOBAR  NICOBAR ISLANDS       2000  Kharif        \n",
       "1  ANDAMAN AND NICOBAR  NICOBAR ISLANDS       2000  Kharif        \n",
       "2  ANDAMAN AND NICOBAR  NICOBAR ISLANDS       2000  Kharif        \n",
       "3  ANDAMAN AND NICOBAR  NICOBAR ISLANDS       2000  Whole Year    \n",
       "4  ANDAMAN AND NICOBAR  NICOBAR ISLANDS       2000  Whole Year    \n",
       "\n",
       "                  Crop    Area  Production  \n",
       "0             Arecanut  1254.0      2000.0  \n",
       "1  Other Kharif pulses     2.0         1.0  \n",
       "2                 Rice   102.0       321.0  \n",
       "3               Banana   176.0       641.0  \n",
       "4            Cashewnut   720.0       165.0  "
      ]
     },
     "execution_count": 9,
     "metadata": {},
     "output_type": "execute_result"
    }
   ],
   "source": [
    "cultivosIndia.head(5)"
   ]
  },
  {
   "cell_type": "code",
   "execution_count": 10,
   "metadata": {},
   "outputs": [
    {
     "data": {
      "text/plain": [
       "(246091, 7)"
      ]
     },
     "execution_count": 10,
     "metadata": {},
     "output_type": "execute_result"
    }
   ],
   "source": [
    "cultivosIndia.shape"
   ]
  },
  {
   "cell_type": "code",
   "execution_count": 11,
   "metadata": {},
   "outputs": [
    {
     "data": {
      "text/plain": [
       "Index(['State_Name', 'District_Name', 'Crop_Year', 'Season', 'Crop', 'Area',\n",
       "       'Production'],\n",
       "      dtype='object')"
      ]
     },
     "execution_count": 11,
     "metadata": {},
     "output_type": "execute_result"
    }
   ],
   "source": [
    "cultivosIndia.columns"
   ]
  },
  {
   "cell_type": "code",
   "execution_count": 12,
   "metadata": {},
   "outputs": [
    {
     "data": {
      "text/plain": [
       "<bound method DataFrame.info of                  State_Name    District_Name  Crop_Year       Season  \\\n",
       "0       ANDAMAN AND NICOBAR  NICOBAR ISLANDS       2000  Kharif        \n",
       "1       ANDAMAN AND NICOBAR  NICOBAR ISLANDS       2000  Kharif        \n",
       "2       ANDAMAN AND NICOBAR  NICOBAR ISLANDS       2000  Kharif        \n",
       "3       ANDAMAN AND NICOBAR  NICOBAR ISLANDS       2000  Whole Year    \n",
       "4       ANDAMAN AND NICOBAR  NICOBAR ISLANDS       2000  Whole Year    \n",
       "...                     ...              ...        ...          ...   \n",
       "246086          West Bengal         PURULIYA       2014  Summer        \n",
       "246087          West Bengal         PURULIYA       2014  Summer        \n",
       "246088          West Bengal         PURULIYA       2014  Whole Year    \n",
       "246089          West Bengal         PURULIYA       2014  Winter        \n",
       "246090          West Bengal         PURULIYA       2014  Winter        \n",
       "\n",
       "                       Crop      Area  Production  \n",
       "0                  Arecanut    1254.0      2000.0  \n",
       "1       Other Kharif pulses       2.0         1.0  \n",
       "2                      Rice     102.0       321.0  \n",
       "3                    Banana     176.0       641.0  \n",
       "4                 Cashewnut     720.0       165.0  \n",
       "...                     ...       ...         ...  \n",
       "246086                 Rice     306.0       801.0  \n",
       "246087              Sesamum     627.0       463.0  \n",
       "246088            Sugarcane     324.0     16250.0  \n",
       "246089                 Rice  279151.0    597899.0  \n",
       "246090              Sesamum     175.0        88.0  \n",
       "\n",
       "[246091 rows x 7 columns]>"
      ]
     },
     "execution_count": 12,
     "metadata": {},
     "output_type": "execute_result"
    }
   ],
   "source": [
    "cultivosIndia.info"
   ]
  },
  {
   "cell_type": "markdown",
   "metadata": {},
   "source": [
    "No tengo valores nulos asi que no tengo que rellenar con valores ya que es un dataframe completo. "
   ]
  },
  {
   "cell_type": "code",
   "execution_count": 13,
   "metadata": {},
   "outputs": [
    {
     "name": "stdout",
     "output_type": "stream",
     "text": [
      "State_Name\n",
      "count            246091\n",
      "unique               34\n",
      "top       Uttar Pradesh\n",
      "freq              33306\n",
      "Name: State_Name, dtype: object\n",
      "------------------------------\n",
      "District_Name\n",
      "count      246091\n",
      "unique        644\n",
      "top       BIJAPUR\n",
      "freq          945\n",
      "Name: District_Name, dtype: object\n",
      "------------------------------\n",
      "Crop_Year\n",
      "count    246091.000000\n",
      "mean       2005.643018\n",
      "std           4.952164\n",
      "min        1997.000000\n",
      "25%        2002.000000\n",
      "50%        2006.000000\n",
      "75%        2010.000000\n",
      "max        2015.000000\n",
      "Name: Crop_Year, dtype: float64\n",
      "------------------------------\n",
      "Season\n",
      "count          246091\n",
      "unique              8\n",
      "top       Kharif     \n",
      "freq            93584\n",
      "Name: Season, dtype: object\n",
      "------------------------------\n",
      "Crop\n",
      "count     246091\n",
      "unique       126\n",
      "top         Rice\n",
      "freq       15104\n",
      "Name: Crop, dtype: object\n",
      "------------------------------\n",
      "Area\n",
      "count    2.460910e+05\n",
      "mean     1.200282e+04\n",
      "std      5.052340e+04\n",
      "min      4.000000e-02\n",
      "25%      8.000000e+01\n",
      "50%      5.820000e+02\n",
      "75%      4.392000e+03\n",
      "max      8.580100e+06\n",
      "Name: Area, dtype: float64\n",
      "------------------------------\n",
      "Production\n",
      "count    2.423610e+05\n",
      "mean     5.825034e+05\n",
      "std      1.706581e+07\n",
      "min      0.000000e+00\n",
      "25%      8.800000e+01\n",
      "50%      7.290000e+02\n",
      "75%      7.023000e+03\n",
      "max      1.250800e+09\n",
      "Name: Production, dtype: float64\n",
      "------------------------------\n"
     ]
    }
   ],
   "source": [
    "for i in cultivosIndia.columns:\n",
    "    print(i)\n",
    "    print(cultivosIndia[i].describe())\n",
    "    print(\"------------------------------\")"
   ]
  }
 ],
 "metadata": {
  "kernelspec": {
   "display_name": "base",
   "language": "python",
   "name": "python3"
  },
  "language_info": {
   "codemirror_mode": {
    "name": "ipython",
    "version": 3
   },
   "file_extension": ".py",
   "mimetype": "text/x-python",
   "name": "python",
   "nbconvert_exporter": "python",
   "pygments_lexer": "ipython3",
   "version": "3.9.12"
  }
 },
 "nbformat": 4,
 "nbformat_minor": 2
}
